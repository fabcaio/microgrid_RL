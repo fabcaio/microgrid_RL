{
 "cells": [
  {
   "cell_type": "code",
   "execution_count": 1,
   "metadata": {},
   "outputs": [],
   "source": [
    "import numpy as np\n",
    "import torch\n",
    "from microgrid_fun import hybrid_fhocp, gurobi_qp, Network, qp_feasible, count_parameters, state_norm, build_delta, build_stacked_input\n",
    "import matplotlib.pylab as plt\n",
    "\n",
    "data = np.load('data_costs_loads_2021_2022.npy', allow_pickle=True)\n",
    "data_2021 = data[0]; data_2022 = data[1]\n",
    "cbuy, csell, cprod, power_load, power_res = data_2022\n",
    "cbuy_2021, csell_2021, cprod_2021, power_load_2021, power_res_2021 = data_2021"
   ]
  },
  {
   "cell_type": "code",
   "execution_count": 2,
   "metadata": {},
   "outputs": [],
   "source": [
    "action_dict = {'0': np.array([[0,0,0,0,0]]),\n",
    "               '1': np.array([[0,0,0,0,1]]),\n",
    "               '2': np.array([[0,0,0,1,0]]),\n",
    "               '3': np.array([[0,0,0,1,1]]),\n",
    "               '4': np.array([[0,0,1,0,0]]),\n",
    "               '5': np.array([[0,0,1,0,1]]),\n",
    "               '6': np.array([[0,0,1,1,0]]),\n",
    "               '7': np.array([[0,0,1,1,1]]),\n",
    "               '8': np.array([[0,1,0,0,0]]),\n",
    "               '9': np.array([[0,1,0,0,1]]),\n",
    "               '10': np.array([[0,1,0,1,0]]),\n",
    "               '11': np.array([[0,1,0,1,1]]),\n",
    "               '12': np.array([[0,1,1,0,0]]),\n",
    "               '13': np.array([[0,1,1,0,1]]),\n",
    "               '14': np.array([[0,1,1,1,0]]),\n",
    "               '15': np.array([[0,1,1,1,1]]),\n",
    "               '16': np.array([[1,0,0,0,0]]),\n",
    "               '17': np.array([[1,0,0,0,1]]),\n",
    "               '18': np.array([[1,0,0,1,0]]),\n",
    "               '19': np.array([[1,0,0,1,1]]),\n",
    "               '20': np.array([[1,0,1,0,0]]),\n",
    "               '21': np.array([[1,0,1,0,1]]),\n",
    "               '22': np.array([[1,0,1,1,0]]),\n",
    "               '23': np.array([[1,0,1,1,1]]),\n",
    "               '24': np.array([[1,1,0,0,0]]),\n",
    "               '25': np.array([[1,1,0,0,1]]),\n",
    "               '26': np.array([[1,1,0,1,0]]),\n",
    "               '27': np.array([[1,1,0,1,1]]),\n",
    "               '28': np.array([[1,1,1,0,0]]),\n",
    "               '29': np.array([[1,1,1,0,1]]),\n",
    "               '30': np.array([[1,1,1,1,0]]),\n",
    "               '31': np.array([[1,1,1,1,1]])}"
   ]
  },
  {
   "cell_type": "code",
   "execution_count": 3,
   "metadata": {},
   "outputs": [],
   "source": [
    "def build_delta_vector(list_action, N):\n",
    "    \n",
    "    '''\n",
    "    builds delta vector (N,5) from LSTM Network output\n",
    "    '''\n",
    "    \n",
    "    # from list of actions builds a np.array with the stacked deltas for each time step of the prediction horizon\n",
    "        \n",
    "    delta = action_dict[str(list_action[0])]\n",
    "    for i in range(1,N):\n",
    "        delta = np.concatenate((delta, action_dict[str(list_action[i])]))\n",
    "        \n",
    "    return delta"
   ]
  },
  {
   "cell_type": "code",
   "execution_count": 4,
   "metadata": {},
   "outputs": [],
   "source": [
    "N=24\n",
    "N_datapoints = 16000"
   ]
  },
  {
   "cell_type": "code",
   "execution_count": 5,
   "metadata": {},
   "outputs": [
    {
     "name": "stdout",
     "output_type": "stream",
     "text": [
      "Set parameter Username\n",
      "Academic license - for non-commercial use only - expires 2024-03-21\n"
     ]
    }
   ],
   "source": [
    "# stack battery state and forecasts\n",
    "# option 1: repeat initial battery charge across time (N_points, N, 6)\n",
    "# option 2: all data comes at the start, then pad with zeros (N_points, N, N*5+1)\n",
    "\n",
    "stacked_states1 = np.zeros((N_datapoints,N,6))\n",
    "stacked_states2 = np.zeros((N_datapoints,N,1+5*N))\n",
    "stacked_deltas =  np.zeros((N_datapoints,N,5))\n",
    "stacked_actions = np.zeros((N_datapoints,N,1))\n",
    "stacked_labels =  np.zeros((N_datapoints,N,2**5))\n",
    "stacked_indices = np.zeros((N_datapoints,)) # time of the day\n",
    "for j in range(N_datapoints):\n",
    "    x0 = np.random.rand(1,1)*225+25 #minimum battery level is 25    \n",
    "    i = np.random.randint(cbuy.shape[0]-N, dtype=np.int32)\n",
    "    \n",
    "    x0_tmp = np.repeat(x0, N)\n",
    "    cbuy_tmp = cbuy[i:i+N]\n",
    "    csell_tmp = csell[i:i+N]\n",
    "    cprod_tmp = cprod[i:i+N]\n",
    "    power_res_tmp = power_res[i:i+N]\n",
    "    power_load_tmp = power_load[i:i+N]\n",
    "    \n",
    "    stacked_states1[j,:] = np.dstack((x0_tmp, cbuy_tmp, csell_tmp, cprod_tmp, power_res_tmp, power_load_tmp))\n",
    "    stacked_states2[j,0,:] = np.concatenate((x0.reshape(1,), cbuy_tmp, csell_tmp, cprod_tmp, power_res_tmp, power_load_tmp))#.reshape(N*5+1,1)    \n",
    "    stacked_states2[j,1:,:] = np.zeros((N-1, 1+5*N))\n",
    "    \n",
    "    mdl = hybrid_fhocp(x0, N, power_res_tmp, power_load_tmp, cbuy_tmp, csell_tmp, cprod_tmp)    \n",
    "    delta = build_delta(mdl, N)\n",
    "    stacked_deltas[j,:] = delta\n",
    "    \n",
    "    stacked_actions[j,:] = np.sum(delta*np.tile(2**np.arange(4,-1,-1,dtype='int32'), (N,1)), axis=1).reshape(N,1)\n",
    "    \n",
    "    #enconding action number to 0-1 hot encoding\n",
    "    idx_0 = j*np.ones(N, dtype=np.int32)\n",
    "    idx_1 = np.arange(N)\n",
    "    idx_2 = stacked_actions[j,:].squeeze().astype(int)\n",
    "    idx_list = list(zip(idx_0, idx_1, idx_2)) #maybe transforming into a list is not necessary\n",
    "    for k in range(N):\n",
    "        stacked_labels[idx_list[k]] = 1\n",
    "        \n",
    "    stacked_indices[j] = i\n",
    "    # stacked_indices[j] = i.astype(int)"
   ]
  },
  {
   "cell_type": "code",
   "execution_count": 21,
   "metadata": {},
   "outputs": [
    {
     "data": {
      "text/plain": [
       "((16000, 24, 6),\n",
       " (16000, 24, 121),\n",
       " (16000, 24, 5),\n",
       " (16000, 24, 1),\n",
       " (16000, 24, 32))"
      ]
     },
     "execution_count": 21,
     "metadata": {},
     "output_type": "execute_result"
    }
   ],
   "source": [
    "#N=24 -> 39m26s for data generation\n",
    "\n",
    "stacked_states1.shape, stacked_states2.shape, stacked_deltas.shape, stacked_actions.shape, stacked_labels.shape"
   ]
  },
  {
   "cell_type": "code",
   "execution_count": 23,
   "metadata": {},
   "outputs": [],
   "source": [
    "state_min = np.array([25, np.min(cbuy), np.min(cprod), np.min(csell), np.min(power_load), np.min(power_res)])\n",
    "state_max = np.array([250, np.max(cbuy), np.max(cprod), np.max(csell), np.max(power_load), np.max(power_res)])\n",
    "\n",
    "stacked_states1_norm = state_norm(stacked_states1, state_min, state_max)\n",
    "\n",
    "state_min2 = np.array([\n",
    "    np.min(cbuy), np.min(cprod), np.min(csell), np.min(power_load), np.min(power_res)\n",
    "])\n",
    "state_min2 = np.tile(state_min2, (N,))\n",
    "state_min2 = np.concatenate((np.array([25]), state_min2))\n",
    "\n",
    "state_max2 = np.array([\n",
    "    np.max(cbuy), np.max(cprod), np.max(csell), np.max(power_load), np.max(power_res)\n",
    "])\n",
    "state_max2 = np.tile(state_max2, (N,))\n",
    "state_max2 = np.concatenate((np.array([250]), state_max2))\n",
    "\n",
    "stacked_states2_norm = state_norm(stacked_states2, state_min2, state_max2)"
   ]
  },
  {
   "cell_type": "code",
   "execution_count": 24,
   "metadata": {},
   "outputs": [],
   "source": [
    "#save milp data\n",
    "\n",
    "# data_milp_info = ['stacked_states1', 'stacked_states2', 'stacked_actions', 'stacked_labels', 'stacked_indices', 'stacked_states1_norm', 'stacked_states2_norm']\n",
    "# data_milp = np.array([data_milp_info, stacked_states1, stacked_states2, stacked_actions, stacked_labels, stacked_indices, stacked_states1_norm, stacked_states2_norm], dtype=object)\n",
    "# np.save('data_milp//data_milp_N48.npy', data_milp, allow_pickle=True)\n",
    "# data_milp_info, stacked_states1, stacked_states2, stacked_actions, stacked_labels, stacked_indices, stacked_states1_norm, stacked_states2_norm = np.load('data_milp//data_milp_N4.npy', allow_pickle=True)\n",
    "\n",
    "N=24\n",
    "#light version without stacked_states2\n",
    "# data_milp_info = ['stacked_states1', 'stacked_actions', 'stacked_labels', 'stacked_indices', 'stacked_states1_norm']\n",
    "# data_milp = np.array([data_milp_info, stacked_states1, stacked_actions, stacked_labels, stacked_indices, stacked_states1_norm], dtype=object)\n",
    "# np.save('data_milp//data_milp_N%.2d_light.npy' %N, data_milp, allow_pickle=True)\n",
    "data_milp_info, stacked_states1, stacked_actions, stacked_labels, stacked_indices, stacked_states1_norm = np.load('data_milp//data_milp_N%d_light.npy'%d, allow_pickle=True)"
   ]
  },
  {
   "cell_type": "code",
   "execution_count": null,
   "metadata": {},
   "outputs": [],
   "source": [
    "stacked_states1_norm.shape, stacked_labels.shape, stacked_states1_norm[0,0,:], stacked_labels[0,0,:]"
   ]
  },
  {
   "cell_type": "code",
   "execution_count": null,
   "metadata": {},
   "outputs": [],
   "source": [
    "# tests dataset\n",
    "\n",
    "idx = np.random.randint(N_datapoints)\n",
    "stacked_deltas[idx, :], stacked_actions[idx, :], stacked_labels[idx, :], stacked_states1[idx, :], stacked_states2[idx, :]"
   ]
  },
  {
   "cell_type": "code",
   "execution_count": 28,
   "metadata": {},
   "outputs": [
    {
     "data": {
      "text/plain": [
       "(array([2.810e+02, 1.380e+02, 2.700e+01, 8.000e+00, 1.150e+02, 2.100e+01,\n",
       "        3.000e+00, 1.514e+03, 1.973e+03, 4.850e+02, 7.200e+01, 2.270e+02,\n",
       "        3.300e+01, 9.070e+02, 5.800e+01, 4.281e+03, 2.440e+02, 9.900e+01,\n",
       "        1.600e+01, 6.000e+00, 4.100e+01, 4.600e+01, 1.800e+01, 1.195e+03,\n",
       "        1.483e+03, 8.400e+01, 4.100e+01, 1.150e+02, 2.100e+01, 2.310e+02,\n",
       "        2.217e+03]),\n",
       " array([ 0.,  1.,  2.,  3.,  4.,  5.,  6.,  7.,  8.,  9., 10., 11., 12.,\n",
       "        13., 14., 15., 16., 17., 18., 19., 20., 21., 22., 23., 24., 25.,\n",
       "        26., 27., 28., 29., 30., 31.]),\n",
       " <BarContainer object of 31 artists>)"
      ]
     },
     "execution_count": 28,
     "metadata": {},
     "output_type": "execute_result"
    },
    {
     "data": {
      "image/png": "[encoded data removed]",
      "text/plain": [
       "<Figure size 640x480 with 1 Axes>"
      ]
     },
     "metadata": {},
     "output_type": "display_data"
    }
   ],
   "source": [
    "#frequency of optimal actions\n",
    "plt.hist(stacked_actions[:,0,:], np.arange(32))"
   ]
  },
  {
   "cell_type": "code",
   "execution_count": 29,
   "metadata": {},
   "outputs": [
    {
     "data": {
      "text/plain": [
       "(array([ 0,  1,  0,  0,  4,  0,  0,  7,  8,  9,  0, 11,  0, 13, 14, 15, 16,\n",
       "         0,  0,  0,  0,  0,  0, 23, 24,  0,  0, 27,  0, 29,  0, 31]),\n",
       " array([ 227,  175,   31,    2,  124,    1,    7, 1646, 2237,  469,   91,\n",
       "         340,   50,  831,  151, 4639,  313,   65,   25,    7,   32,   13,\n",
       "          10, 1078, 1260,   79,   43,  104,   17,  137,   62, 1734],\n",
       "       dtype=int64))"
      ]
     },
     "execution_count": 29,
     "metadata": {},
     "output_type": "execute_result"
    }
   ],
   "source": [
    "visit_count, idx_action = np.histogram(stacked_actions[:,3,:], np.arange(33))\n",
    "(visit_count>100)*idx_action[:-1], visit_count # 0, 1, 7, 8, 9, 11, 13, 15, 16, 23, 24, 31"
   ]
  },
  {
   "cell_type": "code",
   "execution_count": 30,
   "metadata": {},
   "outputs": [
    {
     "name": "stdout",
     "output_type": "stream",
     "text": [
      "x[0,0] 231.007 0\n",
      "x[1,0] 231.007 1\n",
      "x[2,0] 231.007 2\n",
      "x[3,0] 231.007 3\n",
      "x[4,0] 231.007 4\n",
      "x[5,0] 231.007 5\n",
      "x[6,0] 231.007 6\n",
      "x[7,0] 231.007 7\n",
      "x[8,0] 231.007 8\n",
      "x[9,0] 231.007 9\n",
      "x[10,0] 231.007 10\n",
      "x[11,0] 231.007 11\n",
      "x[12,0] 231.007 12\n",
      "x[13,0] 231.007 13\n",
      "x[14,0] 180.502 14\n",
      "x[15,0] 176.515 15\n",
      "x[16,0] 176.515 16\n",
      "x[17,0] 176.515 17\n",
      "x[18,0] 176.515 18\n",
      "x[19,0] 126.01 19\n",
      "x[20,0] 75.5051 20\n",
      "x[21,0] 25 21\n",
      "x[22,0] 25 22\n",
      "x[23,0] 25 23\n",
      "x[24,0] 25 24\n",
      "z[0,0] 0 25\n",
      "z[0,1] 509.788 26\n",
      "z[1,0] 0 27\n",
      "z[1,1] 531.547 28\n",
      "z[2,0] 0 29\n",
      "z[2,1] 534.721 30\n",
      "z[3,0] 0 31\n",
      "z[3,1] 529.557 32\n",
      "z[4,0] 0 33\n",
      "z[4,1] 515.664 34\n",
      "z[5,0] 0 35\n",
      "z[5,1] 501.071 36\n",
      "z[6,0] 0 37\n",
      "z[6,1] 476.288 38\n",
      "z[7,0] 0 39\n",
      "z[7,1] 458.435 40\n",
      "z[8,0] 0 41\n",
      "z[8,1] 444.812 42\n",
      "z[9,0] 0 43\n",
      "z[9,1] 471.582 44\n",
      "z[10,0] 0 45\n",
      "z[10,1] 449.821 46\n",
      "z[11,0] 0 47\n",
      "z[11,1] 433.457 48\n",
      "z[12,0] 0 49\n",
      "z[12,1] 413.048 50\n",
      "z[13,0] 0 51\n",
      "z[13,1] 303.89 52\n",
      "z[14,0] 0 53\n",
      "z[14,1] 390.588 54\n",
      "z[15,0] 0 55\n",
      "z[15,1] 391.149 56\n",
      "z[16,0] 0 57\n",
      "z[16,1] 382.289 58\n",
      "z[17,0] 0 59\n",
      "z[17,1] 376.304 60\n",
      "z[18,0] 0 61\n",
      "z[18,1] 271.192 62\n",
      "z[19,0] 0 63\n",
      "z[19,1] 271.507 64\n",
      "z[20,0] 0 65\n",
      "z[20,1] 274.612 66\n",
      "z[21,0] 0 67\n",
      "z[21,1] 387.847 68\n",
      "z[22,0] 0 69\n",
      "z[22,1] 386.15 70\n",
      "z[23,0] 0 71\n",
      "z[23,1] 394.777 72\n",
      "u[0,0] -1e-06 73\n",
      "u[0,1] 509.788 74\n",
      "u[0,2] 0 75\n",
      "u[0,3] 0 76\n",
      "u[0,4] 0 77\n",
      "u[1,0] -1e-06 78\n",
      "u[1,1] 531.547 79\n",
      "u[1,2] 0 80\n",
      "u[1,3] 0 81\n",
      "u[1,4] 0 82\n",
      "u[2,0] -1e-06 83\n",
      "u[2,1] 534.721 84\n",
      "u[2,2] 0 85\n",
      "u[2,3] 0 86\n",
      "u[2,4] 0 87\n",
      "u[3,0] -1e-06 88\n",
      "u[3,1] 529.557 89\n",
      "u[3,2] 0 90\n",
      "u[3,3] 0 91\n",
      "u[3,4] 0 92\n",
      "u[4,0] -1e-06 93\n",
      "u[4,1] 515.664 94\n",
      "u[4,2] 0 95\n",
      "u[4,3] 0 96\n",
      "u[4,4] 0 97\n",
      "u[5,0] -1e-06 98\n",
      "u[5,1] 501.071 99\n",
      "u[5,2] 0 100\n",
      "u[5,3] 0 101\n",
      "u[5,4] 0 102\n",
      "u[6,0] -1e-06 103\n",
      "u[6,1] 476.288 104\n",
      "u[6,2] 0 105\n",
      "u[6,3] 0 106\n",
      "u[6,4] 0 107\n",
      "u[7,0] -1e-06 108\n",
      "u[7,1] 458.435 109\n",
      "u[7,2] 0 110\n",
      "u[7,3] 0 111\n",
      "u[7,4] 0 112\n",
      "u[8,0] -1e-06 113\n",
      "u[8,1] 444.812 114\n",
      "u[8,2] 0 115\n",
      "u[8,3] 0 116\n",
      "u[8,4] 0 117\n",
      "u[9,0] -1e-06 118\n",
      "u[9,1] 471.582 119\n",
      "u[9,2] 0 120\n",
      "u[9,3] 0 121\n",
      "u[9,4] 0 122\n",
      "u[10,0] -1e-06 123\n",
      "u[10,1] 449.821 124\n",
      "u[10,2] 0 125\n",
      "u[10,3] 0 126\n",
      "u[10,4] 0 127\n",
      "u[11,0] -1e-06 128\n",
      "u[11,1] 433.457 129\n",
      "u[11,2] 0 130\n",
      "u[11,3] 0 131\n",
      "u[11,4] 0 132\n",
      "u[12,0] -1e-06 133\n",
      "u[12,1] 413.048 134\n",
      "u[12,2] 0 135\n",
      "u[12,3] 0 136\n",
      "u[12,4] 0 137\n",
      "u[13,0] -100 138\n",
      "u[13,1] 303.89 139\n",
      "u[13,2] 0 140\n",
      "u[13,3] 0 141\n",
      "u[13,4] 0 142\n",
      "u[14,0] -7.89445 143\n",
      "u[14,1] 390.588 144\n",
      "u[14,2] 0 145\n",
      "u[14,3] 0 146\n",
      "u[14,4] 0 147\n",
      "u[15,0] 0 148\n",
      "u[15,1] 391.149 149\n",
      "u[15,2] 0 150\n",
      "u[15,3] 0 151\n",
      "u[15,4] 0 152\n",
      "u[16,0] 0 153\n",
      "u[16,1] 382.289 154\n",
      "u[16,2] 0 155\n",
      "u[16,3] 0 156\n",
      "u[16,4] 0 157\n",
      "u[17,0] -1e-06 158\n",
      "u[17,1] 376.304 159\n",
      "u[17,2] 0 160\n",
      "u[17,3] 0 161\n",
      "u[17,4] 0 162\n",
      "u[18,0] -100 163\n",
      "u[18,1] 271.192 164\n",
      "u[18,2] 0 165\n",
      "u[18,3] 0 166\n",
      "u[18,4] 0 167\n",
      "u[19,0] -100 168\n",
      "u[19,1] 271.507 169\n",
      "u[19,2] 0 170\n",
      "u[19,3] 0 171\n",
      "u[19,4] 0 172\n",
      "u[20,0] -100 173\n",
      "u[20,1] 274.612 174\n",
      "u[20,2] 0 175\n",
      "u[20,3] 0 176\n",
      "u[20,4] 0 177\n",
      "u[21,0] 0 178\n",
      "u[21,1] 387.847 179\n",
      "u[21,2] 0 180\n",
      "u[21,3] 0 181\n",
      "u[21,4] 0 182\n",
      "u[22,0] 0 183\n",
      "u[22,1] 386.15 184\n",
      "u[22,2] 0 185\n",
      "u[22,3] 0 186\n",
      "u[22,4] 0 187\n",
      "u[23,0] 0 188\n",
      "u[23,1] 394.777 189\n",
      "u[23,2] 0 190\n",
      "u[23,3] 0 191\n",
      "u[23,4] 0 192\n",
      "delta[0,0] 0 193\n",
      "delta[0,1] 1 194\n",
      "delta[0,2] 0 195\n",
      "delta[0,3] 0 196\n",
      "delta[0,4] 0 197\n",
      "delta[1,0] 0 198\n",
      "delta[1,1] 1 199\n",
      "delta[1,2] 0 200\n",
      "delta[1,3] 0 201\n",
      "delta[1,4] 0 202\n",
      "delta[2,0] 0 203\n",
      "delta[2,1] 1 204\n",
      "delta[2,2] 0 205\n",
      "delta[2,3] 0 206\n",
      "delta[2,4] 0 207\n",
      "delta[3,0] 0 208\n",
      "delta[3,1] 1 209\n",
      "delta[3,2] 0 210\n",
      "delta[3,3] 0 211\n",
      "delta[3,4] 0 212\n",
      "delta[4,0] 0 213\n",
      "delta[4,1] 1 214\n",
      "delta[4,2] 0 215\n",
      "delta[4,3] 0 216\n",
      "delta[4,4] 0 217\n",
      "delta[5,0] 0 218\n",
      "delta[5,1] 1 219\n",
      "delta[5,2] 0 220\n",
      "delta[5,3] 0 221\n",
      "delta[5,4] 0 222\n",
      "delta[6,0] 0 223\n",
      "delta[6,1] 1 224\n",
      "delta[6,2] 0 225\n",
      "delta[6,3] 0 226\n",
      "delta[6,4] 0 227\n",
      "delta[7,0] 0 228\n",
      "delta[7,1] 1 229\n",
      "delta[7,2] 0 230\n",
      "delta[7,3] 0 231\n",
      "delta[7,4] 0 232\n",
      "delta[8,0] 0 233\n",
      "delta[8,1] 1 234\n",
      "delta[8,2] 0 235\n",
      "delta[8,3] 0 236\n",
      "delta[8,4] 0 237\n",
      "delta[9,0] 0 238\n",
      "delta[9,1] 1 239\n",
      "delta[9,2] 0 240\n",
      "delta[9,3] 0 241\n",
      "delta[9,4] 0 242\n",
      "delta[10,0] 0 243\n",
      "delta[10,1] 1 244\n",
      "delta[10,2] 0 245\n",
      "delta[10,3] 0 246\n",
      "delta[10,4] 0 247\n",
      "delta[11,0] 0 248\n",
      "delta[11,1] 1 249\n",
      "delta[11,2] 0 250\n",
      "delta[11,3] 0 251\n",
      "delta[11,4] 0 252\n",
      "delta[12,0] 0 253\n",
      "delta[12,1] 1 254\n",
      "delta[12,2] 0 255\n",
      "delta[12,3] 0 256\n",
      "delta[12,4] 0 257\n",
      "delta[13,0] 0 258\n",
      "delta[13,1] 1 259\n",
      "delta[13,2] 0 260\n",
      "delta[13,3] 0 261\n",
      "delta[13,4] 0 262\n",
      "delta[14,0] 0 263\n",
      "delta[14,1] 1 264\n",
      "delta[14,2] 0 265\n",
      "delta[14,3] 0 266\n",
      "delta[14,4] 0 267\n",
      "delta[15,0] 1 268\n",
      "delta[15,1] 1 269\n",
      "delta[15,2] 0 270\n",
      "delta[15,3] 0 271\n",
      "delta[15,4] 0 272\n",
      "delta[16,0] 1 273\n",
      "delta[16,1] 1 274\n",
      "delta[16,2] 0 275\n",
      "delta[16,3] 0 276\n",
      "delta[16,4] 0 277\n",
      "delta[17,0] 0 278\n",
      "delta[17,1] 1 279\n",
      "delta[17,2] 0 280\n",
      "delta[17,3] 0 281\n",
      "delta[17,4] 0 282\n",
      "delta[18,0] 0 283\n",
      "delta[18,1] 1 284\n",
      "delta[18,2] 0 285\n",
      "delta[18,3] 0 286\n",
      "delta[18,4] 0 287\n",
      "delta[19,0] 0 288\n",
      "delta[19,1] 1 289\n",
      "delta[19,2] 0 290\n",
      "delta[19,3] 0 291\n",
      "delta[19,4] 0 292\n",
      "delta[20,0] 0 293\n",
      "delta[20,1] 1 294\n",
      "delta[20,2] 0 295\n",
      "delta[20,3] 0 296\n",
      "delta[20,4] 0 297\n",
      "delta[21,0] 1 298\n",
      "delta[21,1] 1 299\n",
      "delta[21,2] 0 300\n",
      "delta[21,3] 0 301\n",
      "delta[21,4] 0 302\n",
      "delta[22,0] 1 303\n",
      "delta[22,1] 1 304\n",
      "delta[22,2] 0 305\n",
      "delta[22,3] 0 306\n",
      "delta[22,4] 0 307\n",
      "delta[23,0] 1 308\n",
      "delta[23,1] 1 309\n",
      "delta[23,2] 0 310\n",
      "delta[23,3] 0 311\n",
      "delta[23,4] 0 312\n"
     ]
    }
   ],
   "source": [
    "#extracts data from dataset and then checks it\n",
    "\n",
    "i = idx\n",
    "x0 = stacked_states2[idx,0,0]\n",
    "\n",
    "cbuy_tmp = stacked_states2[idx,0,1:1+N]\n",
    "csell_tmp = stacked_states2[idx,0,1+N:1+2*N]\n",
    "cprod_tmp = stacked_states2[idx,0,1+2*N:1+3*N]\n",
    "power_res_tmp = stacked_states2[idx,0,1+3*N:1+4*N]\n",
    "power_load_tmp = stacked_states2[idx,0,1+4*N:i+5*N]\n",
    "\n",
    "mdl = hybrid_fhocp(x0, N, power_res_tmp, power_load_tmp, cbuy_tmp, csell_tmp, cprod_tmp)\n",
    "\n",
    "#show all variables and their respective values and index\n",
    "i=0\n",
    "for v in mdl.getVars():\n",
    "    print('%s %g %i' % (v.VarName, v.X, i))\n",
    "    i+=1"
   ]
  },
  {
   "cell_type": "code",
   "execution_count": 31,
   "metadata": {},
   "outputs": [],
   "source": [
    "# training\n",
    "\n",
    "input_size= 6\n",
    "hidden_size=128\n",
    "num_layers = 1\n",
    "lr = 1e-4\n",
    "n_actions = 32\n",
    "\n",
    "network = Network(input_size, hidden_size, num_layers, lr, n_actions, batch_first=True)\n",
    "\n",
    "batch_size = 32\n",
    "# N_iter = 2*50000\n",
    "N_iter = 500000\n",
    "\n",
    "loss_vec = np.zeros((N_iter,1))\n",
    "\n",
    "for i in range(N_iter):\n",
    "\n",
    "    batch = np.random.choice(N_datapoints, batch_size, replace=False)\n",
    "\n",
    "    state_batch = torch.tensor(stacked_states1_norm[batch], dtype=torch.float32)\n",
    "    labels_batch = torch.tensor(stacked_labels[batch], dtype=torch.float32)\n",
    "\n",
    "    h0 = torch.zeros(num_layers, batch_size, hidden_size)\n",
    "    c0 = torch.zeros(num_layers, batch_size, hidden_size)\n",
    "\n",
    "    net_eval = network(state_batch, h0, c0)\n",
    "\n",
    "    loss = network.loss(net_eval, labels_batch)\n",
    "    \n",
    "    loss_vec[i] = loss.detach().numpy()\n",
    "\n",
    "    network.zero_grad()        \n",
    "    loss.backward()\n",
    "    network.optimizer.step()"
   ]
  },
  {
   "cell_type": "code",
   "execution_count": 32,
   "metadata": {},
   "outputs": [
    {
     "data": {
      "image/png": "[encoded data removed]",
      "text/plain": [
       "<Figure size 640x480 with 1 Axes>"
      ]
     },
     "metadata": {},
     "output_type": "display_data"
    }
   ],
   "source": [
    "plt.plot(loss_vec)\n",
    "plt.show()"
   ]
  },
  {
   "cell_type": "code",
   "execution_count": 33,
   "metadata": {},
   "outputs": [
    {
     "data": {
      "text/plain": [
       "tensor(0.0102, grad_fn=<MseLossBackward0>)"
      ]
     },
     "execution_count": 33,
     "metadata": {},
     "output_type": "execute_result"
    }
   ],
   "source": [
    "#loss on training set\n",
    "\n",
    "batch_size = 5000\n",
    "\n",
    "batch = np.random.choice(N_datapoints, batch_size, replace=False)\n",
    "\n",
    "state_batch = torch.tensor(stacked_states1_norm[batch], dtype=torch.float32)\n",
    "labels_batch = torch.tensor(stacked_labels[batch], dtype=torch.float32)\n",
    "\n",
    "h0 = torch.zeros(num_layers, batch_size, hidden_size)\n",
    "c0 = torch.zeros(num_layers, batch_size, hidden_size)\n",
    "\n",
    "net_eval = network(state_batch, h0, c0)\n",
    "\n",
    "loss = network.loss(net_eval, labels_batch)\n",
    "\n",
    "loss"
   ]
  },
  {
   "cell_type": "code",
   "execution_count": 34,
   "metadata": {},
   "outputs": [],
   "source": [
    "def get_optimality_gap(N, N_iter,\n",
    "                    cbuy=cbuy, csell=csell, cprod=cprod, power_load=power_load, power_res=power_res):\n",
    "    #computes the optimality gap (agent vs MILP) for the microgrid system\n",
    "    #input: trained agent, environment, number of random iterations\n",
    "    #output: averaged cost for agent, average optimal cost, and optimality gap\n",
    "\n",
    "    cost_lstm_mem = []\n",
    "    cost_optimal_mem = []\n",
    "    \n",
    "    diff_soc = []\n",
    "   \n",
    "    cntr_infeasible = 0    \n",
    "\n",
    "    for k in range(N_iter):\n",
    "               \n",
    "        # cbuy_tmp = stacked_states2[idx,0,1:1+N]\n",
    "        # csell_tmp = stacked_states2[idx,0,1+N:1+2*N]\n",
    "        # cprod_tmp = stacked_states2[idx,0,1+2*N:1+3*N]\n",
    "        # power_res_tmp = stacked_states2[idx,0,1+3*N:1+4*N]\n",
    "        # power_load_tmp = stacked_states2[idx,0,1+4*N:i+5*N]\n",
    "        \n",
    "        j = np.random.randint(N_datapoints)\n",
    "        \n",
    "        i = int(stacked_indices[j])\n",
    "        x0 = stacked_states1[j,0,0].reshape(1,)\n",
    "        cbuy_tmp = cbuy[i:i+N]\n",
    "        csell_tmp = csell[i:i+N]\n",
    "        cprod_tmp = cprod[i:i+N]\n",
    "        power_res_tmp = power_res[i:i+N]\n",
    "        power_load_tmp = power_load[i:i+N]\n",
    "\n",
    "        mdl_milp = hybrid_fhocp(x0, N, power_res_tmp, power_load_tmp, cbuy_tmp, csell_tmp, cprod_tmp)\n",
    "        \n",
    "        state = torch.tensor(stacked_states1_norm[j], dtype=torch.float32).unsqueeze(0)\n",
    "        h0 = torch.zeros(num_layers, 1, hidden_size)\n",
    "        c0 = torch.zeros(num_layers, 1, hidden_size)\n",
    "        output_net = network(state, h0, c0)\n",
    "                \n",
    "        action_idx = torch.max(output_net, dim=2)[1].squeeze().numpy()\n",
    "        delta = build_delta_vector(action_idx, N)\n",
    "        \n",
    "        mdl_lp = gurobi_qp(x0, N, power_res_tmp, power_load_tmp, cbuy_tmp, csell_tmp, cprod_tmp, delta)        \n",
    "        \n",
    "        #this exludes infeasible actions from the computation\n",
    "        if qp_feasible(mdl_lp):\n",
    "            cost_mdl_lp = mdl_lp.ObjVal - np.max(csell_tmp)*(mdl_lp.getVars()[N].x - mdl_milp.getVars()[N].x)\n",
    "            \n",
    "            cost_optimal_mem.append(mdl_milp.ObjVal)\n",
    "            cost_lstm_mem.append(cost_mdl_lp)\n",
    "            diff_soc.append(mdl_lp.getVars()[N].x - mdl_milp.getVars()[N].x)\n",
    "        else:\n",
    "            cntr_infeasible += 1          \n",
    "          \n",
    "    avg_cost_lstm = sum(cost_lstm_mem)/len(cost_lstm_mem)\n",
    "    avg_cost_optimal = sum(cost_optimal_mem)/len(cost_optimal_mem)\n",
    "    optimality_gap = (avg_cost_lstm-avg_cost_optimal)/avg_cost_optimal\n",
    "    \n",
    "    return avg_cost_lstm, avg_cost_optimal, optimality_gap, cntr_infeasible"
   ]
  },
  {
   "cell_type": "code",
   "execution_count": 35,
   "metadata": {},
   "outputs": [],
   "source": [
    "def get_optimality_gap_test(N, N_iter,\n",
    "                    cbuy=cbuy, csell=csell, cprod=cprod, power_load=power_load, power_res=power_res):\n",
    "    #computes the optimality gap (agent vs MILP) for the microgrid system\n",
    "    #input: trained agent, environment, number of random iterations\n",
    "    #output: averaged cost for agent, average optimal cost, and optimality gap\n",
    "\n",
    "    cost_lstm_mem = []\n",
    "    cost_optimal_mem = []\n",
    "    \n",
    "    diff_soc = []\n",
    "   \n",
    "    cntr_infeasible = 0    \n",
    "\n",
    "    for k in range(N_iter):                \n",
    "       \n",
    "        x0 = np.random.rand(1,1)*225+25 #minimum battery level is 25        \n",
    "        i = np.random.randint(cbuy.shape[0]-N)        \n",
    "        cbuy_tmp = cbuy[i:i+N]\n",
    "        csell_tmp = csell[i:i+N]\n",
    "        cprod_tmp = cprod[i:i+N]\n",
    "        power_res_tmp = power_res[i:i+N]\n",
    "        power_load_tmp = power_load[i:i+N]\n",
    "        state = build_stacked_input(x0, i, N, input_size, state_min, state_max,\n",
    "                        cbuy, csell, cprod, power_load, power_res)\n",
    "\n",
    "        mdl_milp = hybrid_fhocp(x0, N, power_res_tmp, power_load_tmp, cbuy_tmp, csell_tmp, cprod_tmp)\n",
    "        \n",
    "        state = torch.tensor(state, dtype=torch.float32)#.unsqueeze(0)\n",
    "        h0 = torch.zeros(num_layers, 1, hidden_size)\n",
    "        c0 = torch.zeros(num_layers, 1, hidden_size)\n",
    "        output_net = network(state, h0, c0)\n",
    "                \n",
    "        action_idx = torch.max(output_net, dim=2)[1].squeeze().numpy()\n",
    "        delta = build_delta_vector(action_idx, N)\n",
    "        \n",
    "        mdl_lp = gurobi_qp(x0, N, power_res_tmp, power_load_tmp, cbuy_tmp, csell_tmp, cprod_tmp, delta)        \n",
    "        \n",
    "        #this exludes infeasible actions from the computation\n",
    "        if qp_feasible(mdl_lp):\n",
    "            cost_mdl_lp = mdl_lp.ObjVal - np.max(csell_tmp)*(mdl_lp.getVars()[N].x - mdl_milp.getVars()[N].x)\n",
    "            \n",
    "            cost_optimal_mem.append(mdl_milp.ObjVal)\n",
    "            cost_lstm_mem.append(cost_mdl_lp)\n",
    "            diff_soc.append(mdl_lp.getVars()[N].x - mdl_milp.getVars()[N].x)\n",
    "        else:\n",
    "            cntr_infeasible += 1          \n",
    "          \n",
    "    avg_cost_lstm = sum(cost_lstm_mem)/len(cost_lstm_mem)\n",
    "    avg_cost_optimal = sum(cost_optimal_mem)/len(cost_optimal_mem)\n",
    "    optimality_gap = (avg_cost_lstm-avg_cost_optimal)/avg_cost_optimal\n",
    "    \n",
    "    return avg_cost_lstm, avg_cost_optimal, optimality_gap, cntr_infeasible"
   ]
  },
  {
   "cell_type": "code",
   "execution_count": 90,
   "metadata": {},
   "outputs": [
    {
     "data": {
      "text/plain": [
       "(0.0005968399216281363, 14, 3993.5828418611513, 3991.2007339279116)"
      ]
     },
     "execution_count": 90,
     "metadata": {},
     "output_type": "execute_result"
    }
   ],
   "source": [
    "N=24\n",
    "N_iter=200\n",
    "network.eval()\n",
    "avg_cost_lstm, avg_cost_optimal, optimality_gap, cntr_infeasible = get_optimality_gap(N, N_iter)\n",
    "optimality_gap, cntr_infeasible, avg_cost_lstm, avg_cost_optimal"
   ]
  },
  {
   "cell_type": "code",
   "execution_count": 38,
   "metadata": {},
   "outputs": [
    {
     "data": {
      "text/plain": [
       "(0.027971629004124986, 1929, 8120.351187654348, 7899.392316421374)"
      ]
     },
     "execution_count": 38,
     "metadata": {},
     "output_type": "execute_result"
    }
   ],
   "source": [
    "N=48\n",
    "N_iter=2000\n",
    "network.eval()\n",
    "avg_cost_lstm, avg_cost_optimal, optimality_gap, cntr_infeasible = get_optimality_gap_test(N, N_iter,\n",
    "                                        cbuy=cbuy_2021, csell=csell_2021, cprod=cprod_2021, power_load=power_load_2021, power_res=power_res_2021)\n",
    "optimality_gap, cntr_infeasible, avg_cost_lstm, avg_cost_optimal"
   ]
  },
  {
   "cell_type": "code",
   "execution_count": 39,
   "metadata": {},
   "outputs": [
    {
     "data": {
      "text/plain": [
       "73760"
      ]
     },
     "execution_count": 39,
     "metadata": {},
     "output_type": "execute_result"
    }
   ],
   "source": [
    "count_parameters(network)"
   ]
  },
  {
   "cell_type": "code",
   "execution_count": 42,
   "metadata": {},
   "outputs": [],
   "source": [
    "import time\n",
    "\n",
    "list_SL = []\n",
    "\n",
    "h0 = torch.zeros(num_layers, 1, hidden_size)\n",
    "c0 = torch.zeros(num_layers, 1, hidden_size)\n",
    "for i in range(1000):\n",
    "    j = np.random.randint(stacked_states1_norm.shape[0])\n",
    "    state = stacked_states1[j]\n",
    "    \n",
    "    start_time_RL = time.time()\n",
    "    state = torch.tensor(state, dtype=torch.float32).unsqueeze(0)\n",
    "    output_net = network(state, h0, c0)\n",
    "    action_idx = torch.max(output_net, dim=2)[1].squeeze().numpy()\n",
    "    delta = build_delta_vector(action_idx, N)"
   ]
  },
  {
   "cell_type": "code",
   "execution_count": 99,
   "metadata": {},
   "outputs": [
    {
     "data": {
      "text/plain": [
       "(17520,)"
      ]
     },
     "execution_count": 99,
     "metadata": {},
     "output_type": "execute_result"
    }
   ],
   "source": [
    "cbuy_2021.shape"
   ]
  },
  {
   "cell_type": "code",
   "execution_count": 89,
   "metadata": {},
   "outputs": [
    {
     "data": {
      "text/plain": [
       "torch.Size([1, 24, 6])"
      ]
     },
     "execution_count": 89,
     "metadata": {},
     "output_type": "execute_result"
    }
   ],
   "source": [
    "state.shape"
   ]
  },
  {
   "cell_type": "code",
   "execution_count": 75,
   "metadata": {},
   "outputs": [
    {
     "data": {
      "text/plain": [
       "((24, 6), (24, 6), numpy.ndarray, numpy.ndarray)"
      ]
     },
     "execution_count": 75,
     "metadata": {},
     "output_type": "execute_result"
    }
   ],
   "source": [
    "state1.shape, state2.shape, type(state1[3]), type(state2[3])"
   ]
  },
  {
   "cell_type": "code",
   "execution_count": 58,
   "metadata": {},
   "outputs": [
    {
     "data": {
      "text/plain": [
       "(24, 6)"
      ]
     },
     "execution_count": 58,
     "metadata": {},
     "output_type": "execute_result"
    }
   ],
   "source": [
    "state = np.dstack((x0_tmp, cbuy_tmp, csell_tmp, cprod_tmp, power_res_tmp, power_load_tmp)).squeeze()\n",
    "state.shape"
   ]
  },
  {
   "cell_type": "code",
   "execution_count": 54,
   "metadata": {},
   "outputs": [
    {
     "data": {
      "text/plain": [
       "(numpy.ndarray, (24, 6))"
      ]
     },
     "execution_count": 54,
     "metadata": {},
     "output_type": "execute_result"
    }
   ],
   "source": [
    "state = stacked_states1[j]\n",
    "type(state), state.shape"
   ]
  },
  {
   "cell_type": "code",
   "execution_count": 43,
   "metadata": {},
   "outputs": [
    {
     "data": {
      "text/plain": [
       "0.0004"
      ]
     },
     "execution_count": 43,
     "metadata": {},
     "output_type": "execute_result"
    }
   ],
   "source": [
    "0.4/1000"
   ]
  },
  {
   "cell_type": "code",
   "execution_count": 44,
   "metadata": {},
   "outputs": [],
   "source": [
    "for i in range(100):\n",
    "    x0 = np.random.rand(1,1)*225+25 #minimum battery level is 25        \n",
    "    i = np.random.randint(cbuy.shape[0]-N)        \n",
    "    cbuy_tmp = cbuy[i:i+N]\n",
    "    csell_tmp = csell[i:i+N]\n",
    "    cprod_tmp = cprod[i:i+N]\n",
    "    power_res_tmp = power_res[i:i+N]\n",
    "    power_load_tmp = power_load[i:i+N]\n",
    "\n",
    "    mdl_milp = hybrid_fhocp(x0, N, power_res_tmp, power_load_tmp, cbuy_tmp, csell_tmp, cprod_tmp)"
   ]
  },
  {
   "cell_type": "code",
   "execution_count": 45,
   "metadata": {},
   "outputs": [
    {
     "data": {
      "text/plain": [
       "0.282"
      ]
     },
     "execution_count": 45,
     "metadata": {},
     "output_type": "execute_result"
    }
   ],
   "source": [
    "28.2/100"
   ]
  },
  {
   "cell_type": "code",
   "execution_count": 46,
   "metadata": {},
   "outputs": [
    {
     "data": {
      "text/plain": [
       "99.8581560283688"
      ]
     },
     "execution_count": 46,
     "metadata": {},
     "output_type": "execute_result"
    }
   ],
   "source": [
    "(0.282-0.0004)/0.282*100"
   ]
  },
  {
   "cell_type": "markdown",
   "metadata": {},
   "source": [
    "#### Save & Test"
   ]
  },
  {
   "cell_type": "markdown",
   "metadata": {},
   "source": [
    "microgrid_lstm_supervised_128_opt1_N4:\n",
    "\n",
    "    - lr=1e-4, hidden_size=128, training time=8+5=13m, datapoints: 100k, option1: forecasts spread over time\n",
    "    \n",
    "    - gap = 0.076%, infeasibility rate = 18/1000\n",
    "\n",
    "microgrid_lstm_supervised_128_opt2_N4:\n",
    "\n",
    "    - lr=1e-4, hidden_size=128, training time=8+5.5=13.5m, datapoints: 100k, option2: all inputs at the start\n",
    "    \n",
    "    - gap = 0.069%, infeasibility rate = 18/1000\n",
    "\n",
    "microgrid_lstm_supervised_128_opt1_N12:\n",
    "\n",
    "    - lr=1e-4, hidden_size=128, training time=21+23=44m, datapoints: 300k, option1: forecasts spread over time\n",
    "    \n",
    "    - gap = 0.11% / 0.12%, infeasibility rate = 36/1000 / 15/1000\n",
    "\n",
    "microgrid_lstm_supervised_128_opt1_N48:\n",
    "\n",
    "    - lr=1e-4, hidden_size=128, training time=82+150=232m, datapoints: 500k, option1: forecasts spread over time\n",
    "    \n",
    "    - gap = 0.06% / 0.18%, infeasibility rate = 111/1000 / 94/1000"
   ]
  },
  {
   "cell_type": "code",
   "execution_count": 15,
   "metadata": {},
   "outputs": [],
   "source": [
    "#input_size=6 for option 1 and input_size=21 for option 2\n",
    "\n",
    "input_size= 6\n",
    "hidden_size=128\n",
    "num_layers = 1\n",
    "lr = 1e-4\n",
    "n_actions = 32\n",
    "batch_size = 1\n",
    "\n",
    "network = Network(input_size, hidden_size, num_layers, lr, n_actions, batch_first=True)"
   ]
  },
  {
   "cell_type": "code",
   "execution_count": 91,
   "metadata": {},
   "outputs": [],
   "source": [
    "# torch.save(network.state_dict(), 'best_weights//microgrid_lstm_supervised_%d_N%d_opt1'%(hidden_size, N))\n",
    "# network.load_state_dict(torch.load('trained_weights//microgrid_lstm_supervised_128_option1'))"
   ]
  },
  {
   "cell_type": "code",
   "execution_count": 55,
   "metadata": {},
   "outputs": [
    {
     "data": {
      "text/plain": [
       "(0.0007651083567837533, 89, 549.3427909794871, 548.9228055537287)"
      ]
     },
     "execution_count": 55,
     "metadata": {},
     "output_type": "execute_result"
    }
   ],
   "source": [
    "N=4\n",
    "N_iter=2000\n",
    "avg_cost_lstm, avg_cost_optimal, optimality_gap, cntr_infeasible = get_optimality_gap(N, N_iter)\n",
    "optimality_gap, cntr_infeasible, avg_cost_lstm, avg_cost_optimal"
   ]
  },
  {
   "cell_type": "code",
   "execution_count": 18,
   "metadata": {},
   "outputs": [
    {
     "ename": "AssertionError",
     "evalue": "LSTM: Expected input to be 2-D or 3-D but received 4-D tensor",
     "output_type": "error",
     "traceback": [
      "\u001b[1;31m---------------------------------------------------------------------------\u001b[0m",
      "\u001b[1;31mAssertionError\u001b[0m                            Traceback (most recent call last)",
      "\u001b[1;32mc:\\Users\\cfoliveiradasi\\OneDrive - Delft University of Technology\\PhD\\code\\microgrid_lstm\\microgrid_supervised.ipynb Cell 27\u001b[0m line \u001b[0;36m4\n\u001b[0;32m      <a href='vscode-notebook-cell:/c%3A/Users/cfoliveiradasi/OneDrive%20-%20Delft%20University%20of%20Technology/PhD/code/microgrid_lstm/microgrid_supervised.ipynb#X36sZmlsZQ%3D%3D?line=1'>2</a>\u001b[0m N_iter\u001b[39m=\u001b[39m\u001b[39m2000\u001b[39m\n\u001b[0;32m      <a href='vscode-notebook-cell:/c%3A/Users/cfoliveiradasi/OneDrive%20-%20Delft%20University%20of%20Technology/PhD/code/microgrid_lstm/microgrid_supervised.ipynb#X36sZmlsZQ%3D%3D?line=2'>3</a>\u001b[0m network\u001b[39m.\u001b[39meval()\n\u001b[1;32m----> <a href='vscode-notebook-cell:/c%3A/Users/cfoliveiradasi/OneDrive%20-%20Delft%20University%20of%20Technology/PhD/code/microgrid_lstm/microgrid_supervised.ipynb#X36sZmlsZQ%3D%3D?line=3'>4</a>\u001b[0m avg_cost_lstm, avg_cost_optimal, optimality_gap, cntr_infeasible \u001b[39m=\u001b[39m get_optimality_gap_test(N, N_iter,\n\u001b[0;32m      <a href='vscode-notebook-cell:/c%3A/Users/cfoliveiradasi/OneDrive%20-%20Delft%20University%20of%20Technology/PhD/code/microgrid_lstm/microgrid_supervised.ipynb#X36sZmlsZQ%3D%3D?line=4'>5</a>\u001b[0m                                         cbuy\u001b[39m=\u001b[39;49mcbuy_2021, csell\u001b[39m=\u001b[39;49mcsell_2021, cprod\u001b[39m=\u001b[39;49mcprod_2021, power_load\u001b[39m=\u001b[39;49mpower_load_2021, power_res\u001b[39m=\u001b[39;49mpower_res_2021)\n\u001b[0;32m      <a href='vscode-notebook-cell:/c%3A/Users/cfoliveiradasi/OneDrive%20-%20Delft%20University%20of%20Technology/PhD/code/microgrid_lstm/microgrid_supervised.ipynb#X36sZmlsZQ%3D%3D?line=5'>6</a>\u001b[0m optimality_gap, cntr_infeasible, avg_cost_lstm, avg_cost_optimal\n",
      "\u001b[1;32mc:\\Users\\cfoliveiradasi\\OneDrive - Delft University of Technology\\PhD\\code\\microgrid_lstm\\microgrid_supervised.ipynb Cell 27\u001b[0m line \u001b[0;36m3\n\u001b[0;32m     <a href='vscode-notebook-cell:/c%3A/Users/cfoliveiradasi/OneDrive%20-%20Delft%20University%20of%20Technology/PhD/code/microgrid_lstm/microgrid_supervised.ipynb#X36sZmlsZQ%3D%3D?line=28'>29</a>\u001b[0m h0 \u001b[39m=\u001b[39m torch\u001b[39m.\u001b[39mzeros(num_layers, \u001b[39m1\u001b[39m, hidden_size)\n\u001b[0;32m     <a href='vscode-notebook-cell:/c%3A/Users/cfoliveiradasi/OneDrive%20-%20Delft%20University%20of%20Technology/PhD/code/microgrid_lstm/microgrid_supervised.ipynb#X36sZmlsZQ%3D%3D?line=29'>30</a>\u001b[0m c0 \u001b[39m=\u001b[39m torch\u001b[39m.\u001b[39mzeros(num_layers, \u001b[39m1\u001b[39m, hidden_size)\n\u001b[1;32m---> <a href='vscode-notebook-cell:/c%3A/Users/cfoliveiradasi/OneDrive%20-%20Delft%20University%20of%20Technology/PhD/code/microgrid_lstm/microgrid_supervised.ipynb#X36sZmlsZQ%3D%3D?line=30'>31</a>\u001b[0m output_net \u001b[39m=\u001b[39m network(state, h0, c0)\n\u001b[0;32m     <a href='vscode-notebook-cell:/c%3A/Users/cfoliveiradasi/OneDrive%20-%20Delft%20University%20of%20Technology/PhD/code/microgrid_lstm/microgrid_supervised.ipynb#X36sZmlsZQ%3D%3D?line=32'>33</a>\u001b[0m action_idx \u001b[39m=\u001b[39m torch\u001b[39m.\u001b[39mmax(output_net, dim\u001b[39m=\u001b[39m\u001b[39m2\u001b[39m)[\u001b[39m1\u001b[39m]\u001b[39m.\u001b[39msqueeze()\u001b[39m.\u001b[39mnumpy()\n\u001b[0;32m     <a href='vscode-notebook-cell:/c%3A/Users/cfoliveiradasi/OneDrive%20-%20Delft%20University%20of%20Technology/PhD/code/microgrid_lstm/microgrid_supervised.ipynb#X36sZmlsZQ%3D%3D?line=33'>34</a>\u001b[0m delta \u001b[39m=\u001b[39m build_delta_vector(action_idx, N)\n",
      "File \u001b[1;32mc:\\Users\\cfoliveiradasi\\Anaconda3\\lib\\site-packages\\torch\\nn\\modules\\module.py:1501\u001b[0m, in \u001b[0;36mModule._call_impl\u001b[1;34m(self, *args, **kwargs)\u001b[0m\n\u001b[0;32m   1496\u001b[0m \u001b[39m# If we don't have any hooks, we want to skip the rest of the logic in\u001b[39;00m\n\u001b[0;32m   1497\u001b[0m \u001b[39m# this function, and just call forward.\u001b[39;00m\n\u001b[0;32m   1498\u001b[0m \u001b[39mif\u001b[39;00m \u001b[39mnot\u001b[39;00m (\u001b[39mself\u001b[39m\u001b[39m.\u001b[39m_backward_hooks \u001b[39mor\u001b[39;00m \u001b[39mself\u001b[39m\u001b[39m.\u001b[39m_backward_pre_hooks \u001b[39mor\u001b[39;00m \u001b[39mself\u001b[39m\u001b[39m.\u001b[39m_forward_hooks \u001b[39mor\u001b[39;00m \u001b[39mself\u001b[39m\u001b[39m.\u001b[39m_forward_pre_hooks\n\u001b[0;32m   1499\u001b[0m         \u001b[39mor\u001b[39;00m _global_backward_pre_hooks \u001b[39mor\u001b[39;00m _global_backward_hooks\n\u001b[0;32m   1500\u001b[0m         \u001b[39mor\u001b[39;00m _global_forward_hooks \u001b[39mor\u001b[39;00m _global_forward_pre_hooks):\n\u001b[1;32m-> 1501\u001b[0m     \u001b[39mreturn\u001b[39;00m forward_call(\u001b[39m*\u001b[39margs, \u001b[39m*\u001b[39m\u001b[39m*\u001b[39mkwargs)\n\u001b[0;32m   1502\u001b[0m \u001b[39m# Do not call functions when jit is used\u001b[39;00m\n\u001b[0;32m   1503\u001b[0m full_backward_hooks, non_full_backward_hooks \u001b[39m=\u001b[39m [], []\n",
      "File \u001b[1;32mc:\\Users\\cfoliveiradasi\\OneDrive - Delft University of Technology\\PhD\\code\\microgrid_lstm\\microgrid_fun.py:500\u001b[0m, in \u001b[0;36mNetwork.forward\u001b[1;34m(self, input, h0, c0)\u001b[0m\n\u001b[0;32m    494\u001b[0m \u001b[39mdef\u001b[39;00m \u001b[39mforward\u001b[39m(\u001b[39mself\u001b[39m, \u001b[39minput\u001b[39m, h0, c0):\n\u001b[0;32m    495\u001b[0m     \n\u001b[0;32m    496\u001b[0m     \u001b[39m# input = torch.randn(batch_size, seq_len, input_size)\u001b[39;00m\n\u001b[0;32m    497\u001b[0m     \u001b[39m# h0 = torch.randn(num_layers, batch_size, hidden_size)\u001b[39;00m\n\u001b[0;32m    498\u001b[0m     \u001b[39m# c0 = torch.randn(num_layers, batch_size, hidden_size)\u001b[39;00m\n\u001b[1;32m--> 500\u001b[0m     output, (hn, cn) \u001b[39m=\u001b[39m \u001b[39mself\u001b[39;49m\u001b[39m.\u001b[39;49mlstm(\u001b[39minput\u001b[39;49m, (h0, c0))\n\u001b[0;32m    502\u001b[0m     output \u001b[39m=\u001b[39m \u001b[39mself\u001b[39m\u001b[39m.\u001b[39mdense(output)\n\u001b[0;32m    504\u001b[0m     \u001b[39mreturn\u001b[39;00m output\n",
      "File \u001b[1;32mc:\\Users\\cfoliveiradasi\\Anaconda3\\lib\\site-packages\\torch\\nn\\modules\\module.py:1501\u001b[0m, in \u001b[0;36mModule._call_impl\u001b[1;34m(self, *args, **kwargs)\u001b[0m\n\u001b[0;32m   1496\u001b[0m \u001b[39m# If we don't have any hooks, we want to skip the rest of the logic in\u001b[39;00m\n\u001b[0;32m   1497\u001b[0m \u001b[39m# this function, and just call forward.\u001b[39;00m\n\u001b[0;32m   1498\u001b[0m \u001b[39mif\u001b[39;00m \u001b[39mnot\u001b[39;00m (\u001b[39mself\u001b[39m\u001b[39m.\u001b[39m_backward_hooks \u001b[39mor\u001b[39;00m \u001b[39mself\u001b[39m\u001b[39m.\u001b[39m_backward_pre_hooks \u001b[39mor\u001b[39;00m \u001b[39mself\u001b[39m\u001b[39m.\u001b[39m_forward_hooks \u001b[39mor\u001b[39;00m \u001b[39mself\u001b[39m\u001b[39m.\u001b[39m_forward_pre_hooks\n\u001b[0;32m   1499\u001b[0m         \u001b[39mor\u001b[39;00m _global_backward_pre_hooks \u001b[39mor\u001b[39;00m _global_backward_hooks\n\u001b[0;32m   1500\u001b[0m         \u001b[39mor\u001b[39;00m _global_forward_hooks \u001b[39mor\u001b[39;00m _global_forward_pre_hooks):\n\u001b[1;32m-> 1501\u001b[0m     \u001b[39mreturn\u001b[39;00m forward_call(\u001b[39m*\u001b[39margs, \u001b[39m*\u001b[39m\u001b[39m*\u001b[39mkwargs)\n\u001b[0;32m   1502\u001b[0m \u001b[39m# Do not call functions when jit is used\u001b[39;00m\n\u001b[0;32m   1503\u001b[0m full_backward_hooks, non_full_backward_hooks \u001b[39m=\u001b[39m [], []\n",
      "File \u001b[1;32mc:\\Users\\cfoliveiradasi\\Anaconda3\\lib\\site-packages\\torch\\nn\\modules\\rnn.py:773\u001b[0m, in \u001b[0;36mLSTM.forward\u001b[1;34m(self, input, hx)\u001b[0m\n\u001b[0;32m    771\u001b[0m \u001b[39melse\u001b[39;00m:\n\u001b[0;32m    772\u001b[0m     batch_sizes \u001b[39m=\u001b[39m \u001b[39mNone\u001b[39;00m\n\u001b[1;32m--> 773\u001b[0m     \u001b[39massert\u001b[39;00m (\u001b[39minput\u001b[39m\u001b[39m.\u001b[39mdim() \u001b[39min\u001b[39;00m (\u001b[39m2\u001b[39m, \u001b[39m3\u001b[39m)), \u001b[39mf\u001b[39m\u001b[39m\"\u001b[39m\u001b[39mLSTM: Expected input to be 2-D or 3-D but received \u001b[39m\u001b[39m{\u001b[39;00m\u001b[39minput\u001b[39m\u001b[39m.\u001b[39mdim()\u001b[39m}\u001b[39;00m\u001b[39m-D tensor\u001b[39m\u001b[39m\"\u001b[39m\n\u001b[0;32m    774\u001b[0m     is_batched \u001b[39m=\u001b[39m \u001b[39minput\u001b[39m\u001b[39m.\u001b[39mdim() \u001b[39m==\u001b[39m \u001b[39m3\u001b[39m\n\u001b[0;32m    775\u001b[0m     batch_dim \u001b[39m=\u001b[39m \u001b[39m0\u001b[39m \u001b[39mif\u001b[39;00m \u001b[39mself\u001b[39m\u001b[39m.\u001b[39mbatch_first \u001b[39melse\u001b[39;00m \u001b[39m1\u001b[39m\n",
      "\u001b[1;31mAssertionError\u001b[0m: LSTM: Expected input to be 2-D or 3-D but received 4-D tensor"
     ]
    }
   ],
   "source": [
    "N=4\n",
    "N_iter=2000\n",
    "network.eval()\n",
    "avg_cost_lstm, avg_cost_optimal, optimality_gap, cntr_infeasible = get_optimality_gap_test(N, N_iter,\n",
    "                                        cbuy=cbuy_2021, csell=csell_2021, cprod=cprod_2021, power_load=power_load_2021, power_res=power_res_2021)\n",
    "optimality_gap, cntr_infeasible, avg_cost_lstm, avg_cost_optimal"
   ]
  },
  {
   "cell_type": "code",
   "execution_count": 24,
   "metadata": {},
   "outputs": [
    {
     "data": {
      "text/plain": [
       "torch.Size([1, 4, 6])"
      ]
     },
     "execution_count": 24,
     "metadata": {},
     "output_type": "execute_result"
    }
   ],
   "source": [
    "state.shape"
   ]
  },
  {
   "cell_type": "code",
   "execution_count": 23,
   "metadata": {},
   "outputs": [],
   "source": [
    "x0 = np.random.rand(1,1)*225+25 #minimum battery level is 25        \n",
    "i = np.random.randint(cbuy.shape[0]-N)        \n",
    "cbuy_tmp = cbuy[i:i+N]\n",
    "csell_tmp = csell[i:i+N]\n",
    "cprod_tmp = cprod[i:i+N]\n",
    "power_res_tmp = power_res[i:i+N]\n",
    "power_load_tmp = power_load[i:i+N]\n",
    "state = build_stacked_input(x0, i, N, input_size, state_min, state_max,\n",
    "                cbuy, csell, cprod, power_load, power_res)\n",
    "\n",
    "mdl_milp = hybrid_fhocp(x0, N, power_res_tmp, power_load_tmp, cbuy_tmp, csell_tmp, cprod_tmp)\n",
    "\n",
    "state = torch.tensor(state, dtype=torch.float32)#.unsqueeze(0)\n",
    "h0 = torch.zeros(num_layers, 1, hidden_size)\n",
    "c0 = torch.zeros(num_layers, 1, hidden_size)\n",
    "output_net = network(state, h0, c0)"
   ]
  }
 ],
 "metadata": {
  "kernelspec": {
   "display_name": "base",
   "language": "python",
   "name": "python3"
  },
  "language_info": {
   "codemirror_mode": {
    "name": "ipython",
    "version": 3
   },
   "file_extension": ".py",
   "mimetype": "text/x-python",
   "name": "python",
   "nbconvert_exporter": "python",
   "pygments_lexer": "ipython3",
   "version": "3.9.18"
  },
  "orig_nbformat": 4
 },
 "nbformat": 4,
 "nbformat_minor": 2
}
